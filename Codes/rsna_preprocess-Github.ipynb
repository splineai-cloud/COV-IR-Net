{
 "cells": [
  {
   "cell_type": "code",
   "execution_count": null,
   "metadata": {},
   "outputs": [],
   "source": [
    "from glob import glob #retriving an array of files in directories\n",
    "from tqdm import tqdm\n",
    "import os\n",
    "import csv\n",
    "import random\n",
    "import pydicom\n",
    "import numpy as np\n",
    "import pandas as pd\n",
    "from skimage import io\n",
    "from skimage import measure\n",
    "from skimage.transform import resize\n",
    "import cv2\n",
    "import tensorflow as tf\n",
    "from tensorflow import keras\n",
    "\n",
    "from matplotlib import pyplot as plt\n",
    "import matplotlib.patches as patches\n",
    "import shutil\n",
    "import pydicom as dicom\n",
    "from tqdm import tqdm"
   ]
  },
  {
   "cell_type": "code",
   "execution_count": null,
   "metadata": {},
   "outputs": [],
   "source": [
    "def make_dirs(out):\n",
    "    os.makedirs(out)\n",
    "    os.makedirs(out+\"train/\")\n",
    "    os.makedirs(out+\"test/\")\n",
    "    os.makedirs(out+\"train/NORMAL/\")\n",
    "    os.makedirs(out+\"train/PNEUMONIA/\")\n",
    "    os.makedirs(out+\"test/NORMAL/\")\n",
    "    os.makedirs(out+\"test/PNEUMONIA/\")"
   ]
  },
  {
   "cell_type": "code",
   "execution_count": null,
   "metadata": {},
   "outputs": [],
   "source": [
    "output_dir = \"../proc_input/covid_data/\"\n",
    "sub = pd.read_csv(\"../input/stage_2_train_labels.csv\")\n",
    "detail = pd.read_csv(\"../input/stage_2_detailed_class_info.csv\")\n",
    "detail.tail()"
   ]
  },
  {
   "cell_type": "code",
   "execution_count": null,
   "metadata": {},
   "outputs": [],
   "source": [
    "#converting dcm to jpg\n",
    "folder_path = \"../input/stage_2_train_images/\"\n",
    "images_path = os.listdir(folder_path)\n",
    "os.makedirs(\"../input/stage_2_train_images2/\")\n",
    "jpg_folder_path = \"../input/stage_2_train_images2/\"\n",
    "for n, image in enumerate(images_path):\n",
    "        ds = dicom.dcmread(os.path.join(folder_path, image))\n",
    "        rows = []\n",
    "        pixel_array_numpy = ds.pixel_array\n",
    "        image = image.replace('.dcm', '.jpg')\n",
    "        cv2.imwrite(os.path.join(jpg_folder_path, image), pixel_array_numpy)"
   ]
  },
  {
   "cell_type": "code",
   "execution_count": null,
   "metadata": {},
   "outputs": [],
   "source": [
    "dis_type = detail[\"class\"]\n",
    "dis_name = detail[\"patientId\"]\n",
    "name = sub[\"patientId\"]\n",
    "value = sub[\"Target\"]\n",
    "name = [name[i]+\".jpg\" for i in range(len(name))]\n",
    "dis_name = [dis_name[i]+\".jpg\" for i in range(len(dis_name))]\n",
    "img = glob(\"../input/stage_2_train_images2/*\") #Getting all images in this folder\n",
    "filenames = os.listdir(\"../input/stage_2_train_images2/\")"
   ]
  },
  {
   "cell_type": "code",
   "execution_count": null,
   "metadata": {},
   "outputs": [],
   "source": [
    "#list.index(element)\n",
    "normal,pneumonia = [],[]\n",
    "normal_name,pneumonia_name = [],[]\n",
    "for i in tqdm(range(len(filenames))):\n",
    "    ind = name.index(filenames[i])\n",
    "    ind1 = dis_name.index(filenames[i])\n",
    "    if(value[ind] == 0 and dis_type[ind] == \"Normal\"):\n",
    "        normal.append(img[i])\n",
    "        normal_name.append(filenames[i])\n",
    "    elif(value[ind] == 1):\n",
    "        pneumonia.append(img[i])\n",
    "        pneumonia_name.append(filenames[i])"
   ]
  },
  {
   "cell_type": "code",
   "execution_count": null,
   "metadata": {},
   "outputs": [],
   "source": [
    "random.shuffle(normal)\n",
    "random.shuffle(pneumonia)\n",
    "normal_train,normal_test = normal[:int(len(normal)*.9)],normal[int(len(normal)*.9):]\n",
    "pneumonia_train,pneumonia_test = pneumonia[:int(len(pneumonia)*.9)],pneumonia[int(len(pneumonia)*.9):]"
   ]
  },
  {
   "cell_type": "code",
   "execution_count": null,
   "metadata": {},
   "outputs": [],
   "source": [
    "len(pneumonia_test)"
   ]
  },
  {
   "cell_type": "code",
   "execution_count": null,
   "metadata": {},
   "outputs": [],
   "source": [
    "len(normal_test)\n",
    "try:\n",
    "    make_dirs(output_dir)\n",
    "except:\n",
    "    pass"
   ]
  },
  {
   "cell_type": "code",
   "execution_count": null,
   "metadata": {},
   "outputs": [],
   "source": [
    "for image in normal_train:\n",
    "    shutil.copy(image,output_dir+\"train/NORMAL\")\n",
    "for image in normal_test:\n",
    "    shutil.copy(image,output_dir+\"test/NORMAL\")  \n",
    "for image in pneumonia_train:\n",
    "    shutil.copy(image,output_dir+\"train/PNEUMONIA\")\n",
    "for image in pneumonia_test:\n",
    "    shutil.copy(image,output_dir+\"test/PNEUMONIA\")"
   ]
  }
 ],
 "metadata": {
  "kernelspec": {
   "display_name": "Python 3",
   "language": "python",
   "name": "python3"
  },
  "language_info": {
   "codemirror_mode": {
    "name": "ipython",
    "version": 3
   },
   "file_extension": ".py",
   "mimetype": "text/x-python",
   "name": "python",
   "nbconvert_exporter": "python",
   "pygments_lexer": "ipython3",
   "version": "3.7.6"
  }
 },
 "nbformat": 4,
 "nbformat_minor": 4
}
