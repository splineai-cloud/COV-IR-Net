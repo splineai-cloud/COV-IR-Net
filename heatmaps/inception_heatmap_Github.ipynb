{
 "cells": [
  {
   "cell_type": "code",
   "execution_count": null,
   "metadata": {
    "_cell_guid": "79c7e3d0-c299-4dcb-8224-4455121ee9b0",
    "_uuid": "d629ff2d2480ee46fbb7e2d37f6b5fab8052498a"
   },
   "outputs": [],
   "source": [
    "# General libraries\n",
    "import os\n",
    "import numpy as np\n",
    "import pandas as pd \n",
    "import random\n",
    "import cv2\n",
    "import matplotlib.pyplot as plt\n",
    "%matplotlib inline\n",
    "\n",
    "# Deep learning libraries\n",
    "import tensorflow.keras.backend as K\n",
    "import tensorflow as tf\n",
    "\n",
    "# Setting seeds for reproducibility\n",
    "seed = 232\n",
    "np.random.seed(seed)\n",
    "tf.set_random_seed(seed)\n",
    "from tensorflow.compat.v1 import ConfigProto,InteractiveSession\n",
    "\n",
    "config = ConfigProto()\n",
    "config.gpu_options.allow_growth = True \n",
    "config.gpu_options.per_process_gpu_memory_fraction = 0.9\n",
    "session = InteractiveSession(config=config)\n",
    "#tf.keras.backend.tensorflow_backend.set_session(tf.Session(config=config))"
   ]
  },
  {
   "cell_type": "code",
   "execution_count": null,
   "metadata": {},
   "outputs": [],
   "source": [
    "from tensorflow.keras.models import load_model\n",
    "model = load_model(\"../outputs/inception\")\n",
    "#model.load_weights(\"../outputs/main_heatmap_weight.hdf5\")"
   ]
  },
  {
   "cell_type": "code",
   "execution_count": null,
   "metadata": {
    "scrolled": true
   },
   "outputs": [],
   "source": [
    "model.summary()"
   ]
  },
  {
   "cell_type": "code",
   "execution_count": null,
   "metadata": {},
   "outputs": [],
   "source": [
    "from skimage import data, color, io, img_as_float\n",
    "from skimage import filters\n",
    "def get_heatmap(processed_image, class_idx):\n",
    "    # we want the activations for the predicted label\n",
    "    class_output = model.output[:, class_idx]\n",
    "    \n",
    "    # choose the last conv layer in your model\n",
    "    last_conv_layer = model.get_layer(\"mixed10\")\n",
    "    # get the gradients wrt to the last conv layer\n",
    "    \n",
    "    grads = K.gradients(class_output, last_conv_layer.output)[0]\n",
    "   # we pool the gradients over all the axes leaving out the channel dimension\n",
    "    pooled_grads = K.mean(grads, axis=(0,1,2))\n",
    "    print(pooled_grads)\n",
    "    # Define a function that generates the values for the output and gradients\n",
    "    iterate = K.function([model.input], [pooled_grads, last_conv_layer.output[0]])\n",
    "    \n",
    "    # get the values\n",
    "    grads_values, conv_ouput_values = iterate([processed_image])\n",
    "    \n",
    "    # iterate over each feature map in your conv output and multiply\n",
    "    # the gradient values with the conv output values. This gives an \n",
    "    # indication of \"how important a feature is\"\n",
    "    nv = grads_values.shape[0]\n",
    "    for i in range(nv):\n",
    "        conv_ouput_values[:,:,i] *= grads_values[i]\n",
    "    \n",
    "    # create a heatmap\n",
    "    heatmap = np.mean(conv_ouput_values, axis=-1)\n",
    "    \n",
    "    # remove negative values\n",
    "    heatmap = np.maximum(heatmap, 0)\n",
    "    \n",
    "    # normalize\n",
    "    heatmap /= heatmap.max()\n",
    "    \n",
    "    return heatmap"
   ]
  },
  {
   "cell_type": "code",
   "execution_count": null,
   "metadata": {},
   "outputs": [],
   "source": [
    "def pre(sample_image,model):\n",
    "    sample_image = cv2.resize(sample_image, (150,150))\n",
    "    sample_image = cv2.cvtColor(sample_image, cv2.COLOR_BGR2RGB)\n",
    "    sample_image = sample_image.astype(np.float32)/255.\n",
    "    sample_label = 1\n",
    "    sample_image_processed = np.expand_dims(sample_image, axis=0)\n",
    "    pred_label =[]\n",
    "    pred_label = model.predict(sample_image_processed)\n",
    "    pred_label = list(pred_label[0]).index(max(pred_label[0]))\n",
    "    return pred_label,sample_image,sample_image_processed"
   ]
  },
  {
   "cell_type": "code",
   "execution_count": null,
   "metadata": {},
   "outputs": [],
   "source": [
    "def heatm(pred_label,sample_image,sample_image_processed):\n",
    "    # get the heatmap for class activation map(CAM)\n",
    "    heatmap = get_heatmap(sample_image_processed, pred_label)\n",
    "    heatmap = cv2.resize(heatmap, (sample_image.shape[0], sample_image.shape[1]))\n",
    "    heatmap = heatmap *255\n",
    "    heatmap = np.clip(heatmap, 0, 255).astype(np.uint8)\n",
    "    heatmap = cv2.applyColorMap(heatmap, cv2.COLORMAP_RAINBOW)\n",
    "    #superimpose the heatmap on the image    \n",
    "\n",
    "    sample_image_hsv = color.rgb2hsv(sample_image)\n",
    "    heatmap = color.rgb2hsv(heatmap)\n",
    "\n",
    "    alpha=.9\n",
    "    sample_image_hsv[..., 0] = heatmap[..., 0]\n",
    "    sample_image_hsv[..., 1] = heatmap[..., 1] * alpha\n",
    "\n",
    "    img_masked = color.hsv2rgb(sample_image_hsv)\n",
    "    return img_masked"
   ]
  },
  {
   "cell_type": "code",
   "execution_count": null,
   "metadata": {
    "scrolled": true
   },
   "outputs": [],
   "source": [
    "from glob import glob #retriving an array of files in directories\n",
    "path_test = \"../proc_input/covid_data/test/\"\n",
    "dis = [\"NORMAL\",\"PNEUMONIA\",\"COVID\"]\n",
    "num = 5"
   ]
  },
  {
   "cell_type": "code",
   "execution_count": null,
   "metadata": {},
   "outputs": [],
   "source": [
    "#NORMAL HEATMAP\n",
    "img = glob(path_test+dis[0]+\"/*.jpg\")\n",
    "random.shuffle(img)\n",
    "count = 0\n",
    "f,ax = plt.subplots(num,2, figsize=(16,40))\n",
    "ax = ax.ravel()\n",
    "plt.tight_layout()\n",
    "i = 0\n",
    "for sample_image in img:\n",
    "    sample_image = plt.imread(sample_image)\n",
    "    pred_label,sample_image1,sample_image_processed = pre(sample_image,model)\n",
    "    img_masked = heatm(pred_label,sample_image1,sample_image_processed)\n",
    "    if(dis[0] == dis[pred_label]):\n",
    "        ax[i].imshow(sample_image1)\n",
    "        ax[i].set_title(f\"True label: {dis[0]} \\n Predicted label: {dis[pred_label]}\")\n",
    "        ax[i].axis('off')\n",
    "        i+=1\n",
    "        ax[i].imshow(img_masked)\n",
    "        ax[i].set_title(\"Class Activation Map\")\n",
    "        ax[i].axis('off')\n",
    "        i+=1\n",
    "        count += 1\n",
    "        if(count == num):\n",
    "            break  \n",
    "plt.show()"
   ]
  },
  {
   "cell_type": "code",
   "execution_count": null,
   "metadata": {},
   "outputs": [],
   "source": [
    "#PNEUMONIA HEATMAP\n",
    "img = glob(path_test+dis[1]+\"/*.jpg\")\n",
    "random.shuffle(img)\n",
    "count = 0\n",
    "f,ax = plt.subplots(num,2, figsize=(16,40))\n",
    "ax = ax.ravel()\n",
    "plt.tight_layout()\n",
    "i = 0\n",
    "for sample_image in img:\n",
    "    sample_image = plt.imread(sample_image)\n",
    "    pred_label,sample_image1,sample_image_processed = pre(sample_image,model)\n",
    "    img_masked = heatm(pred_label,sample_image1,sample_image_processed)\n",
    "    if(dis[1] == dis[pred_label]):\n",
    "        ax[i].imshow(sample_image1)\n",
    "        ax[i].set_title(f\"True label: {dis[1]} \\n Predicted label: {dis[pred_label]}\")\n",
    "        ax[i].axis('off')\n",
    "        i+=1\n",
    "        ax[i].imshow(img_masked)\n",
    "        ax[i].set_title(\"Class Activation Map\")\n",
    "        ax[i].axis('off')\n",
    "        i+=1\n",
    "        count += 1\n",
    "        if(count == num):\n",
    "            break  \n",
    "plt.show()"
   ]
  },
  {
   "cell_type": "code",
   "execution_count": null,
   "metadata": {},
   "outputs": [],
   "source": [
    "#COVID HEATMAP\n",
    "img = glob(path_test+dis[2]+\"/*.jpg\")\n",
    "random.shuffle(img)\n",
    "count = 0\n",
    "f,ax = plt.subplots(num,2, figsize=(16,40))\n",
    "ax = ax.ravel()\n",
    "plt.tight_layout()\n",
    "i = 0\n",
    "for sample_image in img:\n",
    "    sample_image = plt.imread(sample_image)\n",
    "    pred_label,sample_image1,sample_image_processed = pre(sample_image,model)\n",
    "    img_masked = heatm(pred_label,sample_image1,sample_image_processed)\n",
    "    if(dis[2] == dis[pred_label]):\n",
    "        ax[i].imshow(sample_image1)\n",
    "        ax[i].set_title(f\"True label: {dis[2]} \\n Predicted label: {dis[pred_label]}\")\n",
    "        ax[i].axis('off')\n",
    "        i+=1\n",
    "        ax[i].imshow(img_masked)\n",
    "        ax[i].set_title(\"Class Activation Map\")\n",
    "        ax[i].axis('off')\n",
    "        i+=1\n",
    "        count += 1\n",
    "        if(count == num):\n",
    "            break  \n",
    "plt.show()"
   ]
  },
  {
   "cell_type": "code",
   "execution_count": null,
   "metadata": {},
   "outputs": [],
   "source": []
  }
 ],
 "metadata": {
  "kernelspec": {
   "display_name": "Python 3",
   "language": "python",
   "name": "python3"
  },
  "language_info": {
   "codemirror_mode": {
    "name": "ipython",
    "version": 3
   },
   "file_extension": ".py",
   "mimetype": "text/x-python",
   "name": "python",
   "nbconvert_exporter": "python",
   "pygments_lexer": "ipython3",
   "version": "3.7.6"
  }
 },
 "nbformat": 4,
 "nbformat_minor": 4
}
